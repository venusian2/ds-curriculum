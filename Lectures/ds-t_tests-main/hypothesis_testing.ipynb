{
 "cells": [
  {
   "cell_type": "markdown",
   "metadata": {
    "toc": true
   },
   "source": [
    "<h1>Table of Contents<span class=\"tocSkip\"></span></h1>\n",
    "<div class=\"toc\"><ul class=\"toc-item\"><li><span><a href=\"#Objectives\" data-toc-modified-id=\"Objectives-1\"><span class=\"toc-item-num\">1&nbsp;&nbsp;</span>Objectives</a></span></li><li><span><a href=\"#We-All-Make-Mistakes\" data-toc-modified-id=\"We-All-Make-Mistakes-2\"><span class=\"toc-item-num\">2&nbsp;&nbsp;</span>We All Make Mistakes</a></span><ul class=\"toc-item\"><li><span><a href=\"#Getting-it-Right-vs-Getting-it-Wrong\" data-toc-modified-id=\"Getting-it-Right-vs-Getting-it-Wrong-2.1\"><span class=\"toc-item-num\">2.1&nbsp;&nbsp;</span>Getting it Right vs Getting it Wrong</a></span></li><li><span><a href=\"#False-Positives---Type-1-Errors\" data-toc-modified-id=\"False-Positives---Type-1-Errors-2.2\"><span class=\"toc-item-num\">2.2&nbsp;&nbsp;</span>False Positives - Type 1 Errors</a></span></li><li><span><a href=\"#False-Negatives---Type-2-Errors\" data-toc-modified-id=\"False-Negatives---Type-2-Errors-2.3\"><span class=\"toc-item-num\">2.3&nbsp;&nbsp;</span>False Negatives - Type 2 Errors</a></span></li><li><span><a href=\"#Visualizing-The-Errors\" data-toc-modified-id=\"Visualizing-The-Errors-2.4\"><span class=\"toc-item-num\">2.4&nbsp;&nbsp;</span>Visualizing The Errors</a></span></li></ul></li><li><span><a href=\"#When-Things-Aren't-Normal:-$t$-Tests\" data-toc-modified-id=\"When-Things-Aren't-Normal:-$t$-Tests-3\"><span class=\"toc-item-num\">3&nbsp;&nbsp;</span>When Things Aren't Normal: $t$-Tests</a></span><ul class=\"toc-item\"><li><span><a href=\"#$z$-tests-vs-$t$-tests\" data-toc-modified-id=\"$z$-tests-vs-$t$-tests-3.1\"><span class=\"toc-item-num\">3.1&nbsp;&nbsp;</span>$z$-tests vs $t$-tests</a></span></li><li><span><a href=\"#Compare-and-contrast-$z$-tests-and-$t$-tests.\" data-toc-modified-id=\"Compare-and-contrast-$z$-tests-and-$t$-tests.-3.2\"><span class=\"toc-item-num\">3.2&nbsp;&nbsp;</span>Compare and contrast $z$-tests and $t$-tests.</a></span></li><li><span><a href=\"#Performing-a-$t$-Test\" data-toc-modified-id=\"Performing-a-$t$-Test-3.3\"><span class=\"toc-item-num\">3.3&nbsp;&nbsp;</span>Performing a $t$-Test</a></span><ul class=\"toc-item\"><li><span><a href=\"#An-Alternative-Method-in-Making-a-Decision\" data-toc-modified-id=\"An-Alternative-Method-in-Making-a-Decision-3.3.1\"><span class=\"toc-item-num\">3.3.1&nbsp;&nbsp;</span>An Alternative Method in Making a Decision</a></span></li></ul></li></ul></li><li><span><a href=\"#Exercises\" data-toc-modified-id=\"Exercises-4\"><span class=\"toc-item-num\">4&nbsp;&nbsp;</span>Exercises</a></span><ul class=\"toc-item\"><li><span><a href=\"#Gotta-Have-My-Coffee!-☕️\" data-toc-modified-id=\"Gotta-Have-My-Coffee!-☕️-4.1\"><span class=\"toc-item-num\">4.1&nbsp;&nbsp;</span>Gotta Have My Coffee! ☕️</a></span></li><li><span><a href=\"#Gotta-Have-My-Pants!-👖\" data-toc-modified-id=\"Gotta-Have-My-Pants!-👖-4.2\"><span class=\"toc-item-num\">4.2&nbsp;&nbsp;</span>Gotta Have My Pants! 👖</a></span></li><li><span><a href=\"#Gotta-Have-My-Food-Delivered!-🚚\" data-toc-modified-id=\"Gotta-Have-My-Food-Delivered!-🚚-4.3\"><span class=\"toc-item-num\">4.3&nbsp;&nbsp;</span>Gotta Have My Food Delivered! 🚚</a></span></li></ul></li><li><span><a href=\"#Level-Up:-More-practice-problems!\" data-toc-modified-id=\"Level-Up:-More-practice-problems!-5\"><span class=\"toc-item-num\">5&nbsp;&nbsp;</span>Level Up: More practice problems!</a></span></li><li><span><a href=\"#Level-Up:--Two-sample-$t$-tests\" data-toc-modified-id=\"Level-Up:--Two-sample-$t$-tests-6\"><span class=\"toc-item-num\">6&nbsp;&nbsp;</span>Level Up:  Two sample $t$-tests</a></span></li></ul></div>"
   ]
  },
  {
   "cell_type": "code",
   "execution_count": 1,
   "metadata": {},
   "outputs": [],
   "source": [
    "from scipy import stats\n",
    "import numpy as np\n",
    "import seaborn as sns\n",
    "import matplotlib.pyplot as plt"
   ]
  },
  {
   "cell_type": "markdown",
   "metadata": {
    "heading_collapsed": true
   },
   "source": [
    "# Objectives"
   ]
  },
  {
   "cell_type": "markdown",
   "metadata": {
    "hidden": true
   },
   "source": [
    "- Understand how type 1 & type 2 errors can be made in hypothesis tests\n",
    "- Perform a Student's t-test and interpret the results"
   ]
  },
  {
   "cell_type": "markdown",
   "metadata": {
    "heading_collapsed": true
   },
   "source": [
    "# We All Make Mistakes"
   ]
  },
  {
   "cell_type": "markdown",
   "metadata": {
    "hidden": true
   },
   "source": [
    "Statistics is a field of imperfect knowledge: we don't know the **_truth_**, we use what we know.\n",
    "\n",
    "We make mistakes ¯\\\\\\_(ツ)\\_/¯ <!--markdown shrug-->"
   ]
  },
  {
   "cell_type": "markdown",
   "metadata": {
    "hidden": true
   },
   "source": [
    "But it's important to know what _kind of mistakes_ we're making in our process and recognize how _frequently_ we might make those mistakes."
   ]
  },
  {
   "cell_type": "markdown",
   "metadata": {
    "heading_collapsed": true,
    "hidden": true
   },
   "source": [
    "## Getting it Right vs Getting it Wrong"
   ]
  },
  {
   "cell_type": "markdown",
   "metadata": {
    "hidden": true
   },
   "source": [
    "It would help if we go over some terminology to help us discuss this types of errors."
   ]
  },
  {
   "cell_type": "markdown",
   "metadata": {
    "hidden": true
   },
   "source": [
    "----------------------------------------"
   ]
  },
  {
   "cell_type": "markdown",
   "metadata": {
    "hidden": true
   },
   "source": [
    "When we get it **right** we have **true positives** & **true negatives**. These correspond with _rejecting the null hypothesis_ and _failing to reject the null hypothesis_.\n",
    "\n",
    "In either situation, it means our conclusion agrees with the \"truth\"."
   ]
  },
  {
   "cell_type": "markdown",
   "metadata": {
    "hidden": true
   },
   "source": [
    "----------------------------------------"
   ]
  },
  {
   "cell_type": "markdown",
   "metadata": {
    "hidden": true
   },
   "source": [
    "When we get it **wrong** we either have a **false positive** or a **false negative**. These are the errors we care about."
   ]
  },
  {
   "cell_type": "markdown",
   "metadata": {
    "heading_collapsed": true,
    "hidden": true
   },
   "source": [
    "## False Positives - Type 1 Errors"
   ]
  },
  {
   "cell_type": "markdown",
   "metadata": {
    "hidden": true
   },
   "source": [
    "**False positives** are **type 1 errors** and occur when we _reject the null hypothesis_ (favoring the alternative hypothesis) but the \"truth\" is that we should have _failed to reject_ (favoring the null hypothesis)."
   ]
  },
  {
   "cell_type": "markdown",
   "metadata": {
    "hidden": true
   },
   "source": [
    "We can get these errors by random chance and are associated with _finding an effect_ when one doesn't exist. We can expect this to happen if we perform many tests where there is no effect."
   ]
  },
  {
   "cell_type": "markdown",
   "metadata": {
    "hidden": true
   },
   "source": [
    "<img src='https://imgs.xkcd.com/comics/significant.png' width=400px/>"
   ]
  },
  {
   "cell_type": "markdown",
   "metadata": {
    "hidden": true
   },
   "source": [
    "So what's a decent tolerance of error? Usually at rate between $1\\%$ and $5\\%$ but it depends on the specific experiment."
   ]
  },
  {
   "cell_type": "markdown",
   "metadata": {
    "hidden": true
   },
   "source": [
    "We actually define our tolerance with something we're already familiar with, the significance level $\\alpha$"
   ]
  },
  {
   "cell_type": "markdown",
   "metadata": {
    "heading_collapsed": true,
    "hidden": true
   },
   "source": [
    "## False Negatives - Type 2 Errors"
   ]
  },
  {
   "cell_type": "markdown",
   "metadata": {
    "hidden": true
   },
   "source": [
    "**False negatives** are **type 2 errors** and occur when we _fail to reject the null hypothesis_ (favoring the null hypothesis) but the \"truth\" is that we should have _rejected the hypothesis_ (favoring the alternative hypothesis)."
   ]
  },
  {
   "cell_type": "markdown",
   "metadata": {
    "hidden": true
   },
   "source": [
    "This can happen again randomly but usually a symptom of not having a \"good enough\" experiment to notice an effect. We're likely to fail to reject $H_0$ if we don't have enough samples and/or the effect is relatively small."
   ]
  },
  {
   "cell_type": "markdown",
   "metadata": {
    "hidden": true
   },
   "source": [
    "This error can be denoted with $\\beta$ but typically it's talked about in terms of **statistical power** ($1-\\beta$) which we'll see later. Note that we want $\\beta$ to be small, but statistical power to be high (they're complements of another)"
   ]
  },
  {
   "cell_type": "markdown",
   "metadata": {
    "hidden": true
   },
   "source": [
    "Generally, we want our false negative rate $\\beta$ to be about $20\\%$ but again it depends on the application."
   ]
  },
  {
   "cell_type": "markdown",
   "metadata": {
    "heading_collapsed": true,
    "hidden": true
   },
   "source": [
    "## Visualizing The Errors"
   ]
  },
  {
   "cell_type": "markdown",
   "metadata": {
    "hidden": true
   },
   "source": [
    "We can think of a hypothesis test as comparing two normal distributions (or $t$-distributions or whichever test we're doing). \n",
    "\n",
    "There's the sample's distribution and the comparison's distribution given by the null hypothesis (which is the population in a one-sample test)."
   ]
  },
  {
   "cell_type": "code",
   "execution_count": 2,
   "metadata": {
    "hidden": true
   },
   "outputs": [
    {
     "data": {
      "image/png": "[encoded data removed]",
      "text/plain": [
       "<Figure size 432x288 with 1 Axes>"
      ]
     },
     "metadata": {
      "needs_background": "light"
     },
     "output_type": "display_data"
    }
   ],
   "source": [
    "# Visulization of two samples being compared with one another\n",
    "fig, ax = plt.subplots()\n",
    "\n",
    "y = np.linspace(stats.norm(0, 1).ppf(0.001),\n",
    "             stats.norm(0, 1).ppf(0.999), 100)\n",
    "\n",
    "alpha = stats.norm(0, 1).ppf(0.95)\n",
    "\n",
    "\n",
    "ax.plot(y, stats.norm(0, 1).pdf(y), 'r-', lw=5, alpha=0.6, label='Type I Error')\n",
    "ax.axvline(alpha)\n",
    "\n",
    "px = np.arange(stats.norm(0, 1).ppf(0.95), stats.norm(0, 1).ppf(0.999), 0.001)\n",
    "ax.fill_between(px, stats.norm(0, 1).pdf(px), color = 'pink')\n",
    "\n",
    "\n",
    "\n",
    "x = np.linspace(stats.norm(3, 1).ppf(0.001),\n",
    "             stats.norm(3, 1).ppf(0.999), 100)\n",
    "\n",
    "ax.plot(x, stats.norm(3, 1).pdf(x), 'b-', lw=5, alpha=0.6, label='Type II Error')\n",
    "\n",
    "\n",
    "px = np.arange(stats.norm(0, 1).ppf(0.5),stats.norm(0, 1).ppf(0.95), 0.001)\n",
    "ax.fill_between(px, stats.norm(3, 1).pdf(px), color='blue')\n",
    "ax.legend(loc='upper right')\n",
    "\n",
    "ax.set_title('Type I and Type II Errors')\n",
    "ax.text(1.35, 0.25, 'Alpha: .05', rotation=90)\n",
    "\n",
    "plt.tight_layout()"
   ]
  },
  {
   "cell_type": "markdown",
   "metadata": {
    "hidden": true
   },
   "source": [
    "We can visualize these two distributions as where we might expect our sample mean to be measured at.\n",
    "\n",
    "Sometimes we might measure an extreme value in our first sample which will be interpreted as a small p-value (too weird to be part of the comparison distribution) resulting into a _type 1 error_."
   ]
  },
  {
   "cell_type": "markdown",
   "metadata": {
    "heading_collapsed": true
   },
   "source": [
    "# When Things Aren't Normal: $t$-Tests"
   ]
  },
  {
   "cell_type": "markdown",
   "metadata": {
    "heading_collapsed": true,
    "hidden": true
   },
   "source": [
    "## $z$-tests vs $t$-tests"
   ]
  },
  {
   "cell_type": "markdown",
   "metadata": {
    "hidden": true
   },
   "source": [
    "We'll typically assume that our continuous variables come from normal distributions. But if we have a small sample size or don't know the population standard deviation, we have to make a *correction* to  the normal distribution. This is what the $t$-test effectively does for us by using a $t$-distribution over the normal distribution."
   ]
  },
  {
   "cell_type": "markdown",
   "metadata": {
    "hidden": true
   },
   "source": [
    "As we saw from a previous lecture, the $t$-distribution changes based on the degrees of freedom (number of data point in the sample). As the number of points increase, we approach the normal distribution."
   ]
  },
  {
   "cell_type": "markdown",
   "metadata": {
    "hidden": true
   },
   "source": [
    "<img src=\"img/z_or_t_test.png\" width=\"500\">"
   ]
  },
  {
   "cell_type": "markdown",
   "metadata": {
    "hidden": true
   },
   "source": [
    "**So what's the difference?** → A $t$-test is like a modified $z$-test. "
   ]
  },
  {
   "cell_type": "markdown",
   "metadata": {
    "hidden": true
   },
   "source": [
    "> **$t$-test**:\n",
    "> \n",
    "> - Calculate the **$t$-statistic** using the sample's standard deviation $s$:\n",
    "> $$\\large t = \\frac{\\bar{x}-\\mu}{\\frac{s}{\\sqrt{n}}}$$\n",
    "> - We calculate the p-value from the **$t$-distribution**"
   ]
  },
  {
   "cell_type": "markdown",
   "metadata": {
    "hidden": true
   },
   "source": [
    "> **$z$-test**:\n",
    "> \n",
    "> - Calculate the **$z$-statistic** using the populations standard deviation $\\sigma$:\n",
    "> $$\\large z = \\frac{\\bar{x}-\\mu}{\\frac{\\sigma}{\\sqrt{n}}}$$\n",
    "> - We calculate the p-value from the **normal distribution**"
   ]
  },
  {
   "cell_type": "markdown",
   "metadata": {
    "hidden": true
   },
   "source": [
    "\n",
    "<img src=\"img/img5.png\" width=\"500\">"
   ]
  },
  {
   "cell_type": "markdown",
   "metadata": {
    "heading_collapsed": true,
    "hidden": true
   },
   "source": [
    "## Compare and contrast $z$-tests and $t$-tests. "
   ]
  },
  {
   "cell_type": "markdown",
   "metadata": {
    "hidden": true
   },
   "source": [
    "In both cases, it is assumed that the samples are normally distributed. \n",
    "\n",
    "$t$-distributions have more probability in the tails. As the sample size increases, this decreases and the t distribution more closely resembles the $z$, or standard normal, distribution. By sample size $n = 1000$ they are virtually indistinguishable from each other. \n",
    "\n",
    "As the degrees of freedom go up, the $t$-distribution gets closer to the normal curve.\n",
    "\n",
    "After calculating our $t$-stat, we compare it against our $t$-critical value determined by our predetermined alpha and the degrees of freedom.\n",
    "\n",
    "Degrees of freedom = n - 1"
   ]
  },
  {
   "cell_type": "code",
   "execution_count": 3,
   "metadata": {
    "hidden": true,
    "scrolled": true
   },
   "outputs": [
    {
     "name": "stdout",
     "output_type": "stream",
     "text": [
      "Help on function ttest_1samp in module scipy.stats.stats:\n",
      "\n",
      "ttest_1samp(a, popmean, axis=0, nan_policy='propagate')\n",
      "    Calculate the T-test for the mean of ONE group of scores.\n",
      "    \n",
      "    This is a two-sided test for the null hypothesis that the expected value\n",
      "    (mean) of a sample of independent observations `a` is equal to the given\n",
      "    population mean, `popmean`.\n",
      "    \n",
      "    Parameters\n",
      "    ----------\n",
      "    a : array_like\n",
      "        Sample observation.\n",
      "    popmean : float or array_like\n",
      "        Expected value in null hypothesis. If array_like, then it must have the\n",
      "        same shape as `a` excluding the axis dimension.\n",
      "    axis : int or None, optional\n",
      "        Axis along which to compute test. If None, compute over the whole\n",
      "        array `a`.\n",
      "    nan_policy : {'propagate', 'raise', 'omit'}, optional\n",
      "        Defines how to handle when input contains nan.\n",
      "        The following options are available (default is 'propagate'):\n",
      "    \n",
      "          * 'propagate': returns nan\n",
      "          * 'raise': throws an error\n",
      "          * 'omit': performs the calculations ignoring nan values\n",
      "    \n",
      "    Returns\n",
      "    -------\n",
      "    statistic : float or array\n",
      "        t-statistic.\n",
      "    pvalue : float or array\n",
      "        Two-sided p-value.\n",
      "    \n",
      "    Examples\n",
      "    --------\n",
      "    >>> from scipy import stats\n",
      "    \n",
      "    >>> np.random.seed(7654567)  # fix seed to get the same result\n",
      "    >>> rvs = stats.norm.rvs(loc=5, scale=10, size=(50,2))\n",
      "    \n",
      "    Test if mean of random sample is equal to true mean, and different mean.\n",
      "    We reject the null hypothesis in the second case and don't reject it in\n",
      "    the first case.\n",
      "    \n",
      "    >>> stats.ttest_1samp(rvs,5.0)\n",
      "    (array([-0.68014479, -0.04323899]), array([ 0.49961383,  0.96568674]))\n",
      "    >>> stats.ttest_1samp(rvs,0.0)\n",
      "    (array([ 2.77025808,  4.11038784]), array([ 0.00789095,  0.00014999]))\n",
      "    \n",
      "    Examples using axis and non-scalar dimension for population mean.\n",
      "    \n",
      "    >>> stats.ttest_1samp(rvs,[5.0,0.0])\n",
      "    (array([-0.68014479,  4.11038784]), array([  4.99613833e-01,   1.49986458e-04]))\n",
      "    >>> stats.ttest_1samp(rvs.T,[5.0,0.0],axis=1)\n",
      "    (array([-0.68014479,  4.11038784]), array([  4.99613833e-01,   1.49986458e-04]))\n",
      "    >>> stats.ttest_1samp(rvs,[[5.0],[0.0]])\n",
      "    (array([[-0.68014479, -0.04323899],\n",
      "           [ 2.77025808,  4.11038784]]), array([[  4.99613833e-01,   9.65686743e-01],\n",
      "           [  7.89094663e-03,   1.49986458e-04]]))\n",
      "\n"
     ]
    }
   ],
   "source": [
    "help(stats.ttest_1samp)"
   ]
  },
  {
   "cell_type": "markdown",
   "metadata": {
    "heading_collapsed": true,
    "hidden": true
   },
   "source": [
    "## Performing a $t$-Test"
   ]
  },
  {
   "cell_type": "markdown",
   "metadata": {
    "hidden": true
   },
   "source": [
    "> **Scenario**\n",
    ">\n",
    "> - We are told that African elephants have weights distributed normally around a mean of $9000$ lbs. \n",
    "> - Pachyderm Adventures has recently measured the weights of $20$ African elephants in Gabon  \n",
    "> - This group of Gabonese elephants were measured to have an average weight at $8562$ lbs. \n",
    ">\n",
    "> The claim is that these Gabonese elephants are significantly different. Let's find out!"
   ]
  },
  {
   "cell_type": "markdown",
   "metadata": {
    "hidden": true
   },
   "source": [
    "Because the sample size is small, we need to use a one sample $t$-test. "
   ]
  },
  {
   "cell_type": "markdown",
   "metadata": {
    "hidden": true
   },
   "source": [
    "\n",
    "\n",
    "$H_0$: _There is no difference between the Gabonese elephants and the African elephants population_\n",
    "\n",
    "$H_1$: _There is a difference between the Gabonese elephants and the African elephants population_\n",
    "\n",
    "Let's define our $\\alpha$ to be $0.05$"
   ]
  },
  {
   "cell_type": "code",
   "execution_count": 4,
   "metadata": {
    "hidden": true
   },
   "outputs": [],
   "source": [
    "# We're given these values from the sample\n",
    "gab = np.array([\n",
    "        8234, 8929, 7922, 8688, 8840, \n",
    "        8759, 8127, 8574, 8533, 8944, \n",
    "        8631, 8665, 8712, 8984, 8601, \n",
    "        8559, 8228, 8474, 8708, 8128\n",
    "])"
   ]
  },
  {
   "cell_type": "code",
   "execution_count": 5,
   "metadata": {
    "hidden": true
   },
   "outputs": [
    {
     "name": "stdout",
     "output_type": "stream",
     "text": [
      "Sample mean: 8562.0\n",
      "Sample std: 288.7\n"
     ]
    }
   ],
   "source": [
    "print(f'Sample mean: {np.mean(gab):.1f}')\n",
    "print(f'Sample std: {np.std(gab):.1f}')"
   ]
  },
  {
   "cell_type": "code",
   "execution_count": 6,
   "metadata": {
    "hidden": true
   },
   "outputs": [
    {
     "data": {
      "text/plain": [
       "Ttest_1sampResult(statistic=-6.614120615780001, pvalue=2.498214901380137e-06)"
      ]
     },
     "execution_count": 6,
     "metadata": {},
     "output_type": "execute_result"
    }
   ],
   "source": [
    "# Using Python to perform test\n",
    "result = stats.ttest_1samp(gab, 9000)\n",
    "t_stat, p_value = result\n",
    "result"
   ]
  },
  {
   "cell_type": "markdown",
   "metadata": {
    "hidden": true
   },
   "source": [
    "So, yes, we can very confidently reject our null hypothesis since the p-value is smaller than our $\\alpha$."
   ]
  },
  {
   "cell_type": "markdown",
   "metadata": {
    "heading_collapsed": true,
    "hidden": true
   },
   "source": [
    "### An Alternative Method in Making a Decision"
   ]
  },
  {
   "cell_type": "markdown",
   "metadata": {
    "hidden": true
   },
   "source": [
    "We used SciPy above to calculate our $t$-value and ultimately our p-value from the $t$-distribution. \n",
    "\n",
    "Alternatively, we can convert our significance level $\\alpha$ using the $t$-distribution to get our **critical value $t^*$**. We then can compare $t^*$ with our $t$-statistic to determine if it's significant."
   ]
  },
  {
   "cell_type": "code",
   "execution_count": 9,
   "metadata": {
    "hidden": true
   },
   "outputs": [
    {
     "data": {
      "text/plain": [
       "-6.785944569870411"
      ]
     },
     "execution_count": 9,
     "metadata": {},
     "output_type": "execute_result"
    }
   ],
   "source": [
    "# Let's continue to assume our alpha is 0.05\n",
    "x_bar = 8562\n",
    "mu = 9000\n",
    "sample_std = np.std(gab)\n",
    "n = 20\n",
    "\n",
    "t_stat = (x_bar - mu)/(sample_std/np.sqrt(n))\n",
    "t_stat"
   ]
  },
  {
   "cell_type": "code",
   "execution_count": 10,
   "metadata": {
    "hidden": true
   },
   "outputs": [
    {
     "data": {
      "text/plain": [
       "-1.7291328115213678"
      ]
     },
     "execution_count": 10,
     "metadata": {},
     "output_type": "execute_result"
    }
   ],
   "source": [
    "# Calculate our t-critical value t*\n",
    "stats.t.ppf(0.05, n-1)"
   ]
  },
  {
   "cell_type": "markdown",
   "metadata": {
    "hidden": true
   },
   "source": [
    "We can again confidently reject our null hypothesis since the absolute value of our $t$-statistic is larger than that of our critical value $t^*$."
   ]
  },
  {
   "cell_type": "markdown",
   "metadata": {
    "heading_collapsed": true,
    "slideshow": {
     "slide_type": "slide"
    }
   },
   "source": [
    "# Exercises"
   ]
  },
  {
   "cell_type": "markdown",
   "metadata": {
    "heading_collapsed": true,
    "hidden": true,
    "slideshow": {
     "slide_type": "slide"
    }
   },
   "source": [
    "## Gotta Have My Coffee! ☕️"
   ]
  },
  {
   "cell_type": "markdown",
   "metadata": {
    "hidden": true,
    "slideshow": {
     "slide_type": "slide"
    }
   },
   "source": [
    "A coffee shop relocates from Manhattan to Brooklyn and wants to make sure that all lattes are consistent before and after their move. They buy a new machine and hire a new barista. In Manhattan, lattes are made with 4 oz of espresso. A random sample of 25 lattes made in their new store in Brooklyn shows a mean of 4.6 oz and standard deviation of 0.22 oz. Are their lattes different now that they've relocated to Brooklyn? Use a significance level of $\\alpha = 0.01$."
   ]
  },
  {
   "cell_type": "markdown",
   "metadata": {
    "hidden": true
   },
   "source": [
    "**State the null and alternative hypotheses**"
   ]
  },
  {
   "cell_type": "code",
   "execution_count": null,
   "metadata": {
    "hidden": true
   },
   "outputs": [],
   "source": [
    "# Your Answer Here\n",
    "H0: lattes are same size\n",
    "HA: lattes are statistically different in size "
   ]
  },
  {
   "cell_type": "markdown",
   "metadata": {},
   "source": [
    "<details>\n",
    "    <summary>Answer</summary>\n",
    "Null: The Brooklyn lattes are not different in size from the Manhattan lattes. <br/>\n",
    "Alternative: The Brooklyn lattes are different in size from the Manhattan lattes.\n",
    "    </details>"
   ]
  },
  {
   "cell_type": "markdown",
   "metadata": {
    "hidden": true
   },
   "source": [
    "**Perform the test.**"
   ]
  },
  {
   "cell_type": "code",
   "execution_count": 14,
   "metadata": {},
   "outputs": [
    {
     "name": "stdout",
     "output_type": "stream",
     "text": [
      "Help on method interval in module scipy.stats._distn_infrastructure:\n",
      "\n",
      "interval(alpha, *args, **kwds) method of scipy.stats._continuous_distns.t_gen instance\n",
      "    Confidence interval with equal areas around the median.\n",
      "    \n",
      "    Parameters\n",
      "    ----------\n",
      "    alpha : array_like of float\n",
      "        Probability that an rv will be drawn from the returned range.\n",
      "        Each value should be in the range [0, 1].\n",
      "    arg1, arg2, ... : array_like\n",
      "        The shape parameter(s) for the distribution (see docstring of the\n",
      "        instance object for more information).\n",
      "    loc : array_like, optional\n",
      "        location parameter, Default is 0.\n",
      "    scale : array_like, optional\n",
      "        scale parameter, Default is 1.\n",
      "    \n",
      "    Returns\n",
      "    -------\n",
      "    a, b : ndarray of float\n",
      "        end-points of range that contain ``100 * alpha %`` of the rv's\n",
      "        possible values.\n",
      "\n"
     ]
    }
   ],
   "source": [
    "help(stats.t.interval)"
   ]
  },
  {
   "cell_type": "code",
   "execution_count": 19,
   "metadata": {
    "hidden": true
   },
   "outputs": [
    {
     "name": "stdout",
     "output_type": "stream",
     "text": [
      "(4.476934661789996, 4.723065338210003)\n",
      "t-statistic:  13.63636363636363\n",
      "critical t-value:  2.796939504772804\n",
      "p-value:  4.242714627951655e-13\n"
     ]
    }
   ],
   "source": [
    "#method 1 (mean mean falls outside ci)\n",
    "mu = 4\n",
    "\n",
    "sample_mean = 4.6\n",
    "sample_std = .22\n",
    "n_samples = 25\n",
    "\n",
    "alph = 0.99\n",
    "\n",
    "ci = stats.t.interval(\n",
    "    alpha=alph,         # Confidence level\n",
    "    df=n_samples - 1, # Degrees of freedom\n",
    "    loc=sample_mean,    # Sample mean\n",
    "    scale=sample_std/n_samples**0.5           # Standard error\n",
    ")\n",
    "print(ci)\n",
    "\n",
    "#method 2\n",
    "t_stat = (4.6-4)/(.22/25**0.5)\n",
    "t_crit = stats.t.ppf(0.995, df=24)\n",
    "print(\"t-statistic: \", t_stat)\n",
    "print(\"critical t-value: \", t_crit)\n",
    "print(\"p-value: \", stats.t(df=24).sf(t_stat))"
   ]
  },
  {
   "cell_type": "markdown",
   "metadata": {},
   "source": [
    "<details>\n",
    "    <summary>Answer</summary>\n",
    "    <code>t_stat = (4.6 - 4) / (0.22 / np.sqrt(25))\n",
    "# This is a two-tailed test, so we want 1/2 of the 1% for\n",
    "# the right tail and 1/2 for the left tail.\n",
    "t_crit = stats.t.ppf(0.995, df=24)\n",
    "print(\"t-statistic: \", t_stat)\n",
    "print(\"critical t-value: \", t_crit)\n",
    "print(\"p-value: \", stats.t(df=24).sf(t_stat))</code>\n",
    "    </details>"
   ]
  },
  {
   "cell_type": "markdown",
   "metadata": {
    "hidden": true,
    "slideshow": {
     "slide_type": "notes"
    }
   },
   "source": [
    "**Make a decision**."
   ]
  },
  {
   "cell_type": "code",
   "execution_count": null,
   "metadata": {
    "hidden": true
   },
   "outputs": [],
   "source": [
    "reject the null"
   ]
  },
  {
   "cell_type": "markdown",
   "metadata": {},
   "source": [
    "<details>\n",
    "    <summary>Answer</summary>\n",
    "    Because the p-value is lower than our threshold of 1% (or, equivalently, because our t-statistic is larger than the critical t-statistic), we should reject the null hypothesis. The Brooklyn lattes are different!\n",
    "    </details>"
   ]
  },
  {
   "cell_type": "markdown",
   "metadata": {
    "heading_collapsed": true,
    "hidden": true,
    "slideshow": {
     "slide_type": "slide"
    }
   },
   "source": [
    "## Gotta Have My Pants! 👖"
   ]
  },
  {
   "cell_type": "markdown",
   "metadata": {
    "hidden": true,
    "slideshow": {
     "slide_type": "slide"
    }
   },
   "source": [
    "I'm buying jeans from Pants-a-torium. I know nothing about their inventory other than prices after looking at some random jean prices: \n",
    "\n",
    "``` python\n",
    "[20, 30, 30, 50, 75, 25, 30, 30, 40, 80]\n",
    "```\n",
    "However, I know that my typical pants store (Pants-R-Us) sells jeans at an average price of \\\\$58 with a standard deviation of \\\\$18. (Yes, I do descriptive statistics while I shop. Why do you ask?)\n",
    "\n",
    "Should I go just to one store for a less expensive pair of jeans? I'm pretty apprehensive about my decision, so $\\alpha = 0.1$."
   ]
  },
  {
   "cell_type": "markdown",
   "metadata": {
    "hidden": true,
    "slideshow": {
     "slide_type": "slide"
    }
   },
   "source": [
    "**State the null and alternative hypotheses**"
   ]
  },
  {
   "cell_type": "code",
   "execution_count": null,
   "metadata": {
    "hidden": true
   },
   "outputs": [],
   "source": [
    "H0: pants-r-us and pants-a-torium are same \n",
    "HA: pants-r-us and pants-a-torium are statistically different in prices"
   ]
  },
  {
   "cell_type": "markdown",
   "metadata": {},
   "source": [
    "<details>\n",
    "    <summary>Answer</summary>\n",
    "    Null: The pants at Pants-a-torium are not cheaper than the pants at Pants-R-Us.\n",
    "    Alternative: The pants at Pants-a-torium are cheaper than the pants at Pants-R-Us.\n",
    "    </details>"
   ]
  },
  {
   "cell_type": "markdown",
   "metadata": {
    "hidden": true
   },
   "source": [
    "**Perform the test.**"
   ]
  },
  {
   "cell_type": "code",
   "execution_count": 18,
   "metadata": {
    "hidden": true
   },
   "outputs": [
    {
     "data": {
      "text/plain": [
       "Ttest_1sampResult(statistic=-2.56934288148538, pvalue=0.03022035629578255)"
      ]
     },
     "execution_count": 18,
     "metadata": {},
     "output_type": "execute_result"
    }
   ],
   "source": [
    "#method 1\n",
    "pants = [20,30,30,50,75,25,30,30,40,80]\n",
    "result = stats.ttest_1samp(pants, 58)\n",
    "result\n",
    "\n",
    "#method 2\n"
   ]
  },
  {
   "cell_type": "markdown",
   "metadata": {},
   "source": [
    "<details>\n",
    "    <summary>Answer</summary>\n",
    "    <code>pantsatorium = [20, 30, 30, 50, 75, 25, 30, 30, 40, 80]\n",
    "stats.ttest_1samp(a=pantsatorium, popmean=58)</code>\n",
    "</details>"
   ]
  },
  {
   "cell_type": "markdown",
   "metadata": {
    "hidden": true
   },
   "source": [
    "**Make a decision.**"
   ]
  },
  {
   "cell_type": "code",
   "execution_count": null,
   "metadata": {
    "hidden": true
   },
   "outputs": [],
   "source": [
    "reject the null"
   ]
  },
  {
   "cell_type": "markdown",
   "metadata": {},
   "source": [
    "<details>\n",
    "    <summary>Answer</summary>\n",
    "The p-value is smaller than our critical level of 10%, so we'll reject the null!\n",
    "    </details>"
   ]
  },
  {
   "cell_type": "markdown",
   "metadata": {
    "heading_collapsed": true,
    "hidden": true,
    "slideshow": {
     "slide_type": "slide"
    }
   },
   "source": [
    "## Gotta Have My Food Delivered! 🚚"
   ]
  },
  {
   "cell_type": "markdown",
   "metadata": {
    "hidden": true,
    "slideshow": {
     "slide_type": "slide"
    }
   },
   "source": [
    "You measure the delivery times of ten different restaurants in two different neighborhoods. You want to know if restaurants in the different neighborhoods have the same delivery times. Set your significance threshold to 0.05. \n",
    "\n",
    "We measured this for neighborhood A: \n",
    "\n",
    "``` python\n",
    "delivery_times_A = [28.4, 23.3, 30.4, 28.1, 29.4, 30.6, 27.8, 30.9, 27.0, 32.8]\n",
    "```\n",
    "\n",
    "For neighborhood B, someone already reported the values as a mean time of 26.8 minutes and a standard deviation of 2.6 minutes.\n"
   ]
  },
  {
   "cell_type": "markdown",
   "metadata": {
    "hidden": true,
    "slideshow": {
     "slide_type": "slide"
    }
   },
   "source": [
    "**State the null and alternative hypotheses.**"
   ]
  },
  {
   "cell_type": "code",
   "execution_count": null,
   "metadata": {
    "hidden": true
   },
   "outputs": [],
   "source": [
    "H0: Na and Nb do not have different delivery times\n",
    "HA: Na and NB do have statistically different delivery times"
   ]
  },
  {
   "cell_type": "markdown",
   "metadata": {},
   "source": [
    "<details>\n",
    "    <summary>Answer</summary>\n",
    "Null: The delivery times for the restaurants in Neighborhood A are the same as the times for the restaurants in Neighborhood B. <br/>\n",
    "Alternative: The delivery times for the restaurants in Neighborhood A are NOT the same as the times for the restaurants in  Neighborhood B.\n",
    "    <details>"
   ]
  },
  {
   "cell_type": "markdown",
   "metadata": {
    "hidden": true
   },
   "source": [
    "**Perform the test.**"
   ]
  },
  {
   "cell_type": "code",
   "execution_count": 22,
   "metadata": {
    "hidden": true
   },
   "outputs": [
    {
     "data": {
      "text/plain": [
       "Ttest_indResult(statistic=1.8206924435070326, pvalue=0.08535597189429299)"
      ]
     },
     "execution_count": 22,
     "metadata": {},
     "output_type": "execute_result"
    }
   ],
   "source": [
    "delivery_times_A = [28.4, 23.3, 30.4, 28.1, 29.4, 30.6, 27.8, 30.9, 27.0, 32.8]\n",
    "mean_A = np.mean(delivery_times_A)\n",
    "std_A = np.std(delivery_times_A)\n",
    "nobs_A = len(delivery_times_A)\n",
    "mean_B = 26.8\n",
    "std_B = 2.6\n",
    "nobs_B = 10\n",
    "stats.ttest_ind_from_stats(mean1=mean_A, std1=std_A, nobs1=nobs_A,\n",
    "                          mean2=mean_B, std2=std_B, nobs2=nobs_B,\n",
    "        equal_var=False)"
   ]
  },
  {
   "cell_type": "markdown",
   "metadata": {},
   "source": [
    "<details>\n",
    "    <summary>Answer</summary>\n",
    "    This is a TWO-SAMPLE problem. So we'll use stats.ttest_ind_from_stats(). The two sets don't have exactly the same variance, so we'll perform Welch's test by setting the equal_var parameter to False. <br/>\n",
    "    <code>delivery_times_A = [28.4, 23.3, 30.4, 28.1, 29.4, 30.6, 27.8, 30.9, 27.0, 32.8]\n",
    "mean_A = np.mean(delivery_times_A)\n",
    "std_A = np.std(delivery_times_A)\n",
    "nobs_A = len(delivery_times_A)\n",
    "mean_B = 26.8\n",
    "std_B = 2.6\n",
    "nobs_B = 10\n",
    "stats.ttest_ind_from_stats(mean1=mean_A, std1=std_A, nobs1=nobs_A,\n",
    "                          mean2=mean_B, std2=std_B, nobs2=nobs_B,\n",
    "        equal_var=False)</code>\n",
    "</details>"
   ]
  },
  {
   "cell_type": "markdown",
   "metadata": {
    "hidden": true
   },
   "source": [
    "**Make a decision.**"
   ]
  },
  {
   "cell_type": "code",
   "execution_count": null,
   "metadata": {
    "hidden": true
   },
   "outputs": [],
   "source": [
    "do not reject\n"
   ]
  },
  {
   "cell_type": "markdown",
   "metadata": {},
   "source": [
    "<details>\n",
    "    <summary>Answer</summary>\n",
    "    The p-value is greater than our threshold value of 5%, so we can't reject the null hypothesis that the two neighborhoods have the same restaurant delivery times.\n",
    "    </details>"
   ]
  },
  {
   "cell_type": "markdown",
   "metadata": {
    "heading_collapsed": true,
    "slideshow": {
     "slide_type": "slide"
    }
   },
   "source": [
    "# Level Up: More practice problems!"
   ]
  },
  {
   "cell_type": "markdown",
   "metadata": {
    "hidden": true,
    "slideshow": {
     "slide_type": "slide"
    }
   },
   "source": [
    "1. A rental car company claims the mean time to rent a car on their website is 60 seconds with a standard deviation of 30 seconds. A random sample of 36 customers attempted to rent a car on the website. The mean time to rent was 75 seconds. Is this enough evidence to contradict the company's claim at a significance level of $\\alpha = 0.05$? "
   ]
  },
  {
   "cell_type": "markdown",
   "metadata": {
    "hidden": true,
    "slideshow": {
     "slide_type": "notes"
    }
   },
   "source": [
    "Null hypothesis:\n",
    "\n",
    "Alternative hypothesis:\n"
   ]
  },
  {
   "cell_type": "markdown",
   "metadata": {},
   "source": [
    "<details>\n",
    "    <summary>Answer</summary>\n",
    "    Null: The customers' rent time is not different from what the company claims.\n",
    "    Alternative: The customers' rent time is different from what the company claims.\n",
    "    </details>"
   ]
  },
  {
   "cell_type": "code",
   "execution_count": null,
   "metadata": {
    "hidden": true,
    "slideshow": {
     "slide_type": "notes"
    }
   },
   "outputs": [],
   "source": [
    "# one-sample z-test \n"
   ]
  },
  {
   "cell_type": "markdown",
   "metadata": {},
   "source": [
    "<details>\n",
    "    <summary>Answer</summary>\n",
    "<code>z_stat = (75 - 60) / (30 / np.sqrt(36))\n",
    "stats.norm.cdf(z_stat)</code>\n",
    "    </details>"
   ]
  },
  {
   "cell_type": "markdown",
   "metadata": {
    "hidden": true,
    "slideshow": {
     "slide_type": "notes"
    }
   },
   "source": [
    "Reject?:"
   ]
  },
  {
   "cell_type": "markdown",
   "metadata": {},
   "source": [
    "<details>\n",
    "    <summary>Answer</summary>\n",
    "    Yes, reject the null hypothesis! The p-value is less than our threshold of 5%.\n",
    "    </details>"
   ]
  },
  {
   "cell_type": "markdown",
   "metadata": {
    "hidden": true,
    "slideshow": {
     "slide_type": "slide"
    }
   },
   "source": [
    "2. Consider the gain in weight (in grams) of 19 female rats between 28 and 84 days after birth. \n",
    "\n",
    "Twelve rats were fed on a high-protein diet and seven rats were fed on a low-protein diet.\n",
    "\n",
    "``` python\n",
    "high_protein = [134, 146, 104, 119, 124, 161, 107, 83, 113, 129, 97, 123]\n",
    "low_protein = [70, 118, 101, 85, 107, 132, 94]\n",
    "```\n",
    "\n",
    "Is there any difference in the weight gain of rats fed on high protein diet vs low protein diet? It's OK to assume equal sample variances. "
   ]
  },
  {
   "cell_type": "markdown",
   "metadata": {
    "hidden": true,
    "slideshow": {
     "slide_type": "notes"
    }
   },
   "source": [
    "Null and alternative hypotheses? "
   ]
  },
  {
   "cell_type": "markdown",
   "metadata": {
    "hidden": true,
    "slideshow": {
     "slide_type": "notes"
    }
   },
   "source": [
    "> null: \n",
    "\n",
    "> alternative: "
   ]
  },
  {
   "cell_type": "markdown",
   "metadata": {},
   "source": [
    "<details>\n",
    "    <summary>Answer</summary>\n",
    "    Null: The rats with the high-protein diet and the rats with the low-protein diet had the same weight gain. <br/>\n",
    "    Alternative: The rats with the high-protein diet and the rats with the low-protein diet did not have the same weight gain.\n",
    "    </details>"
   ]
  },
  {
   "cell_type": "markdown",
   "metadata": {
    "hidden": true,
    "slideshow": {
     "slide_type": "notes"
    }
   },
   "source": [
    "What kind of test should we perform and why? "
   ]
  },
  {
   "cell_type": "markdown",
   "metadata": {
    "hidden": true,
    "slideshow": {
     "slide_type": "notes"
    }
   },
   "source": [
    "> Test:"
   ]
  },
  {
   "cell_type": "markdown",
   "metadata": {
    "hidden": true,
    "slideshow": {
     "slide_type": "notes"
    }
   },
   "source": [
    "<details>\n",
    "    <summary>Answer</summary>\n",
    "    Two-sample two-tailed t-test, since we have small sample sizes. See the Level-Up section below!\n",
    "    </details>"
   ]
  },
  {
   "cell_type": "markdown",
   "metadata": {},
   "source": [
    "Perform the test. Do we reject the null hypothesis?"
   ]
  },
  {
   "cell_type": "code",
   "execution_count": null,
   "metadata": {},
   "outputs": [],
   "source": []
  },
  {
   "cell_type": "markdown",
   "metadata": {},
   "source": [
    "<details>\n",
    "    <summary>Answer</summary>\n",
    "<code>high_protein = [134, 146, 104, 119, 124, 161, 107, 83, 113, 129, 97, 123]\n",
    "low_protein = [70, 118, 101, 85, 107, 132, 94]\n",
    "stats.ttest_ind(a=high_protein, b=low_protein)</code>\n",
    "\n",
    "We fail to reject the null hypothesis at a significance level of $\\alpha = 0.05$.\n",
    "    </details>"
   ]
  },
  {
   "cell_type": "markdown",
   "metadata": {
    "hidden": true,
    "slideshow": {
     "slide_type": "slide"
    }
   },
   "source": [
    "**What if we wanted to test if the rats who ate a high-protein diet gained *more* weight than those who ate a low-protein diet?**"
   ]
  },
  {
   "cell_type": "markdown",
   "metadata": {
    "hidden": true,
    "slideshow": {
     "slide_type": "notes"
    }
   },
   "source": [
    "Null:\n",
    "\n",
    "alternative:"
   ]
  },
  {
   "cell_type": "markdown",
   "metadata": {},
   "source": [
    "<details>\n",
    "    <summary>Answer</summary>\n",
    "    Null: The rats with the high-protein diet did not gain more weight than the rats with the low-protein diet. <br/>\n",
    "    Alternative: The rats with the high-protein diet gained more weight than the rats with the low-protein diet."
   ]
  },
  {
   "cell_type": "markdown",
   "metadata": {
    "hidden": true,
    "slideshow": {
     "slide_type": "notes"
    }
   },
   "source": [
    "Kind of test? "
   ]
  },
  {
   "cell_type": "markdown",
   "metadata": {},
   "source": [
    "<details>\n",
    "    <summary>Answer</summary>\n",
    "    Now we need a two-sample ONE-tailed test.\n",
    "    </details>"
   ]
  },
  {
   "cell_type": "markdown",
   "metadata": {
    "hidden": true,
    "slideshow": {
     "slide_type": "notes"
    }
   },
   "source": [
    "Critical test statistic value? "
   ]
  },
  {
   "cell_type": "code",
   "execution_count": null,
   "metadata": {
    "hidden": true,
    "slideshow": {
     "slide_type": "notes"
    }
   },
   "outputs": [],
   "source": []
  },
  {
   "cell_type": "markdown",
   "metadata": {},
   "source": [
    "<details>\n",
    "    <summary>Answer</summary>\n",
    "    <code>h_bar = np.mean(high_protein)\n",
    "l_bar = np.mean(low_protein)\n",
    "h_df = len(high_protein) - 1\n",
    "l_df = len(low_protein) - 1\n",
    "pooled_var = (h_df*np.var(high_protein) + l_df*np.var(low_protein)) / (h_df + l_df)\n",
    "t_stat = (h_bar - l_bar) / np.sqrt(pooled_var * (1/len(high_protein) + 1/len(low_protein)))\n",
    "t_stat</code>\n",
    "    </details>"
   ]
  },
  {
   "cell_type": "markdown",
   "metadata": {
    "hidden": true,
    "slideshow": {
     "slide_type": "notes"
    }
   },
   "source": [
    "Can we reject?"
   ]
  },
  {
   "cell_type": "code",
   "execution_count": null,
   "metadata": {
    "hidden": true
   },
   "outputs": [],
   "source": []
  },
  {
   "cell_type": "markdown",
   "metadata": {},
   "source": [
    "<details>\n",
    "    <summary>Answer</summary>\n",
    "    <code>stats.t(df=h_df+l_df).cdf(t_stat)</code>\n",
    "    \n",
    "    Yes, we can reject the null hypothesis!\n",
    "    </details>"
   ]
  },
  {
   "cell_type": "markdown",
   "metadata": {
    "heading_collapsed": true
   },
   "source": [
    "# Level Up:  Two-sample $t$-tests"
   ]
  },
  {
   "cell_type": "markdown",
   "metadata": {
    "hidden": true
   },
   "source": [
    "Sometimes, we are interested in determining whether two population means are equal. In this case, we use two-sample $t$-tests.\n",
    "\n",
    "There are two types of two-sample t-tests: **paired** and **independent** (unpaired) tests. \n",
    "\n",
    "What's the difference?  \n",
    "\n",
    "**Paired tests**: How is a sample affected by a certain treatment? The individuals in the sample remain the same and you compare how they change after treatment. \n",
    "\n",
    "**Independent tests**: When we compare two different, unrelated samples to each other, we use an independent (or unpaired) two-sample t-test."
   ]
  },
  {
   "cell_type": "markdown",
   "metadata": {
    "hidden": true
   },
   "source": [
    "The test statistic for an unpaired two-sample t-test is slightly different than the test statistic for the one-sample $t$-test. \n",
    "\n",
    "Assuming equal variances, the test statistic for a two-sample $t$-test is given by: \n",
    "\n",
    "$$ t = \\frac{\\bar{x_1} - \\bar{x_2}}{\\sqrt{s^2 \\left( \\frac{1}{n_1} + \\frac{1}{n_2} \\right)}}$$\n",
    "\n",
    "where $s^2$ is the pooled sample variance, \n",
    "\n",
    "$$ s^2 = \\frac{\\sum_{i=1}^{n_1} \\left(x_i - \\bar{x_1}\\right)^2 + \\sum_{j=1}^{n_2} \\left(x_j - \\bar{x_2}\\right)^2 }{n_1 + n_2 - 2} $$\n",
    "\n",
    "Here, $n_1$ is the sample size of sample 1 and $n_2$ is the sample size of sample 2. \n",
    "\n",
    "An independent two-sample $t$-test for samples of size $n_1$ and $n_2$ has $(n_1 + n_2 - 2)$ degrees of freedom. "
   ]
  },
  {
   "cell_type": "markdown",
   "metadata": {
    "hidden": true
   },
   "source": [
    "Now let's say we want to compare our Gabonese elephants to a sample of elephants from Kenya. "
   ]
  },
  {
   "cell_type": "code",
   "execution_count": null,
   "metadata": {
    "hidden": true
   },
   "outputs": [],
   "source": [
    "ken = [8762, 8880, 8743, 8901,\n",
    "        8252, 8966, 8369, 9001,\n",
    "         8857, 8147, 8927, 9005,\n",
    "         9083, 8477, 8760, 8915,\n",
    "         8927, 8829, 8579, 9002]\n",
    "\n",
    "\n",
    "print(np.std(ken))\n",
    "print(np.std(gab))"
   ]
  },
  {
   "cell_type": "code",
   "execution_count": null,
   "metadata": {
    "hidden": true
   },
   "outputs": [],
   "source": [
    "# so\n",
    "\n",
    "x_1 = np.mean(gab)\n",
    "x_2 = np.mean(ken)\n",
    "s_1_2 = np.var(gab, ddof = 1)\n",
    "s_2_2 = np.var(ken, ddof = 1)\n",
    "n_1 = len(gab)\n",
    "n_2 = len(ken)\n",
    "s_p_2 = ((n_1 - 1)*s_1_2 + (n_2 - 1 )* s_2_2)/(n_1 + n_2 -2)\n",
    "\n",
    "t = (x_1 - x_2)/np.sqrt(s_p_2*(1/n_1 + 1/n_2))\n",
    "t"
   ]
  },
  {
   "cell_type": "code",
   "execution_count": null,
   "metadata": {
    "hidden": true
   },
   "outputs": [],
   "source": [
    "s_p_2 = ((n_1 - 1)*s_1_2 + (n_2 - 1 )* s_2_2)/(n_1 + n_2 -2)\n",
    "s_p_2"
   ]
  },
  {
   "cell_type": "code",
   "execution_count": null,
   "metadata": {
    "hidden": true
   },
   "outputs": [],
   "source": [
    "print(s_1_2, s_2_2 )"
   ]
  },
  {
   "cell_type": "code",
   "execution_count": null,
   "metadata": {
    "hidden": true
   },
   "outputs": [],
   "source": [
    "stats.ttest_ind(gab, ken, equal_var=False)"
   ]
  }
 ],
 "metadata": {
  "interpreter": {
   "hash": "40d3a090f54c6569ab1632332b64b2c03c39dcf918b08424e98f38b5ae0af88f"
  },
  "kernelspec": {
   "display_name": "Python 3.8.5 ('base')",
   "language": "python",
   "name": "python3"
  },
  "language_info": {
   "codemirror_mode": {
    "name": "ipython",
    "version": 3
   },
   "file_extension": ".py",
   "mimetype": "text/x-python",
   "name": "python",
   "nbconvert_exporter": "python",
   "pygments_lexer": "ipython3",
   "version": "3.8.5"
  },
  "toc": {
   "base_numbering": 1,
   "nav_menu": {},
   "number_sections": true,
   "sideBar": true,
   "skip_h1_title": false,
   "title_cell": "Table of Contents",
   "title_sidebar": "TOC",
   "toc_cell": true,
   "toc_position": {
    "height": "calc(100% - 180px)",
    "left": "10px",
    "top": "150px",
    "width": "288px"
   },
   "toc_section_display": true,
   "toc_window_display": true
  }
 },
 "nbformat": 4,
 "nbformat_minor": 4
}
